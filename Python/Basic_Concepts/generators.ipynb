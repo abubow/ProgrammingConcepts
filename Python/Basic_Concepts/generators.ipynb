{
 "cells": [
  {
   "cell_type": "markdown",
   "metadata": {},
   "source": [
    "# Generator"
   ]
  },
  {
   "cell_type": "markdown",
   "metadata": {},
   "source": [
    "Generators in python are used to save space by iterating the answers one by one instead of saving all of them at once."
   ]
  },
  {
   "cell_type": "code",
   "execution_count": 2,
   "metadata": {},
   "outputs": [
    {
     "name": "stdout",
     "output_type": "stream",
     "text": [
      "Time taken for square is 12.84828415100128\n"
     ]
    }
   ],
   "source": [
    "import time\n",
    "def square(arr):\n",
    "    result =[]\n",
    "    for i in arr:\n",
    "        result.append(i*i)\n",
    "    return result\n",
    "\n",
    "arr = [i for i in range(80000000)]\n",
    "start = time.perf_counter()\n",
    "square(arr)\n",
    "end = time.perf_counter()\n",
    "print(f\"Time taken for square is {end-start}\")\n"
   ]
  },
  {
   "cell_type": "markdown",
   "metadata": {},
   "source": [
    "we can do the same thing with a generator by using a yield statement."
   ]
  },
  {
   "cell_type": "code",
   "execution_count": 3,
   "metadata": {},
   "outputs": [
    {
     "name": "stdout",
     "output_type": "stream",
     "text": [
      "Time taken for square is 4.583070724000208\n"
     ]
    }
   ],
   "source": [
    "import time\n",
    "def square(arr):\n",
    "    for i in arr:\n",
    "        yield i*i\n",
    "\n",
    "arr = [i for i in range(80000000)]\n",
    "start = time.perf_counter()\n",
    "answer = square(arr)\n",
    "end = time.perf_counter()\n",
    "print(f\"Time taken for square is {end-start}\")"
   ]
  },
  {
   "cell_type": "markdown",
   "metadata": {},
   "source": [
    "we can see an astonishing difference in the time it takes to run the generator compared to the time it takes to run a normal function. This is because the generator is not saving all the answers in memory."
   ]
  },
  {
   "cell_type": "markdown",
   "metadata": {},
   "source": [
    "print(arr)"
   ]
  }
 ],
 "metadata": {
  "interpreter": {
   "hash": "e7370f93d1d0cde622a1f8e1c04877d8463912d04d973331ad4851f04de6915a"
  },
  "kernelspec": {
   "display_name": "Python 3.10.4 64-bit",
   "language": "python",
   "name": "python3"
  },
  "language_info": {
   "codemirror_mode": {
    "name": "ipython",
    "version": 3
   },
   "file_extension": ".py",
   "mimetype": "text/x-python",
   "name": "python",
   "nbconvert_exporter": "python",
   "pygments_lexer": "ipython3",
   "version": "3.10.4"
  },
  "orig_nbformat": 4
 },
 "nbformat": 4,
 "nbformat_minor": 2
}
