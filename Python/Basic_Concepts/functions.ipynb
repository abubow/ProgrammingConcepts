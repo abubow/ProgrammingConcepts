{
 "cells": [
  {
   "cell_type": "markdown",
   "metadata": {},
   "source": [
    "# Functions"
   ]
  },
  {
   "cell_type": "markdown",
   "metadata": {},
   "source": [
    "Functions are a handy tool present in almost all programming languages. A function simply takes some inputs, performs some operation on them and returns the result. "
   ]
  },
  {
   "cell_type": "code",
   "execution_count": 2,
   "metadata": {},
   "outputs": [
    {
     "name": "stdout",
     "output_type": "stream",
     "text": [
      "5 + 8 =  13\n"
     ]
    }
   ],
   "source": [
    "def sum(a, b): # defining the function\n",
    "    return a+b # returning a value\n",
    "sum(4, 3) # calling the function but we do not use the return value\n",
    "s = sum(7, 8) # calling the function and storing it's return value in a variable\n",
    "print(\"5 + 8 = \",sum(5, 8)) # printing the return value directly"
   ]
  },
  {
   "cell_type": "markdown",
   "metadata": {},
   "source": [
    "### Rules for functions"
   ]
  },
  {
   "cell_type": "markdown",
   "metadata": {},
   "source": [
    "Although python functions are less restrictive when compared to some other lower level programming langauges, such as C, C++, Rust, Java, etc., there are however some rules and common practices involving python functions."
   ]
  },
  {
   "cell_type": "markdown",
   "metadata": {},
   "source": [
    "1. Like variables, Function names can not start with numbers or symbols.\n",
    "    > *1func()* is invalid \n",
    "    \n",
    "    > *func1()* is valid"
   ]
  },
  {
   "cell_type": "code",
   "execution_count": 3,
   "metadata": {},
   "outputs": [
    {
     "name": "stdout",
     "output_type": "stream",
     "text": [
      "word\n"
     ]
    }
   ],
   "source": [
    "#def 1func(): #gives error, remove # in start to check\n",
    "#    print(\"word\")\n",
    "# however this works fine\n",
    "def func1():\n",
    "    print(\"word\")\n",
    "#1func()\n",
    "func1()"
   ]
  },
  {
   "cell_type": "markdown",
   "metadata": {},
   "source": [
    "\n",
    "2. Order of parameters matters, unless you specify when calling the function\n",
    "    > *printInOrder(5,4)* will be different from *printInOrder(4,5)*\n",
    "\n",
    "    > *printInOrder( a = 5, b = 4)* will be same as *printInOrder(b = 4, a = 5)*\n"
   ]
  },
  {
   "cell_type": "code",
   "execution_count": 6,
   "metadata": {},
   "outputs": [
    {
     "name": "stdout",
     "output_type": "stream",
     "text": [
      "5 3\n",
      "3 5\n",
      "5 3\n",
      "5 3\n"
     ]
    }
   ],
   "source": [
    "def printInOrder(a , b):\n",
    "    print(a,b)\n",
    "\n",
    "printInOrder(5, 3)\n",
    "printInOrder(3, 5)\n",
    "printInOrder(a = 5, b = 3)\n",
    "printInOrder(b = 3, a = 5)"
   ]
  },
  {
   "cell_type": "code",
   "execution_count": null,
   "metadata": {},
   "outputs": [],
   "source": []
  }
 ],
 "metadata": {
  "interpreter": {
   "hash": "e7370f93d1d0cde622a1f8e1c04877d8463912d04d973331ad4851f04de6915a"
  },
  "kernelspec": {
   "display_name": "Python 3.10.4 64-bit",
   "language": "python",
   "name": "python3"
  },
  "language_info": {
   "codemirror_mode": {
    "name": "ipython",
    "version": 3
   },
   "file_extension": ".py",
   "mimetype": "text/x-python",
   "name": "python",
   "nbconvert_exporter": "python",
   "pygments_lexer": "ipython3",
   "version": "3.10.4"
  },
  "orig_nbformat": 4
 },
 "nbformat": 4,
 "nbformat_minor": 2
}
