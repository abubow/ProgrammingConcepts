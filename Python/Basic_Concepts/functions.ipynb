{
 "cells": [
  {
   "cell_type": "markdown",
   "metadata": {},
   "source": [
    "# Functions"
   ]
  },
  {
   "cell_type": "markdown",
   "metadata": {},
   "source": [
    "Functions are a handy tool present in almost all programming languages. A function simply takes some inputs, performs some operation on them and returns the result. "
   ]
  },
  {
   "cell_type": "code",
   "execution_count": 2,
   "metadata": {},
   "outputs": [
    {
     "name": "stdout",
     "output_type": "stream",
     "text": [
      "5 + 8 =  13\n"
     ]
    }
   ],
   "source": [
    "def sum(a, b): # defining the function\n",
    "    return a+b # returning a value\n",
    "sum(4, 3) # calling the function but we do not use the return value\n",
    "s = sum(7, 8) # calling the function and storing it's return value in a variable\n",
    "print(\"5 + 8 = \",sum(5, 8)) # printing the return value directly"
   ]
  },
  {
   "cell_type": "markdown",
   "metadata": {},
   "source": [
    "### Rules for functions"
   ]
  },
  {
   "cell_type": "markdown",
   "metadata": {},
   "source": [
    "Although python functions are less restrictive when compared to some other lower level programming langauges, such as C, C++, Rust, Java, etc., there are however some rules and common practices involving python functions."
   ]
  },
  {
   "cell_type": "markdown",
   "metadata": {},
   "source": [
    "1. Like variables, Function names can not start with numbers or symbols.\n",
    "    > *1func()* is invalid \n",
    "    \n",
    "    > *func1()* is valid"
   ]
  },
  {
   "cell_type": "code",
   "execution_count": 3,
   "metadata": {},
   "outputs": [
    {
     "name": "stdout",
     "output_type": "stream",
     "text": [
      "word\n"
     ]
    }
   ],
   "source": [
    "#def 1func(): #gives error, remove # in start to check\n",
    "#    print(\"word\")\n",
    "# however this works fine\n",
    "def func1():\n",
    "    print(\"word\")\n",
    "#1func()\n",
    "func1()"
   ]
  },
  {
   "cell_type": "markdown",
   "metadata": {},
   "source": [
    "\n",
    "2. Order of parameters matters, unless you specify when calling the function\n",
    "    > *printInOrder(5,4)* will be different from *printInOrder(4,5)*\n",
    "\n",
    "    > *printInOrder( a = 5, b = 4)* will be same as *printInOrder(b = 4, a = 5)*\n"
   ]
  },
  {
   "cell_type": "code",
   "execution_count": 6,
   "metadata": {},
   "outputs": [
    {
     "name": "stdout",
     "output_type": "stream",
     "text": [
      "5 3\n",
      "3 5\n",
      "5 3\n",
      "5 3\n"
     ]
    }
   ],
   "source": [
    "def printInOrder(a , b):\n",
    "    print(a,b)\n",
    "\n",
    "printInOrder(5, 3)\n",
    "printInOrder(3, 5)\n",
    "printInOrder(a = 5, b = 3)\n",
    "printInOrder(b = 3, a = 5)"
   ]
  },
  {
   "cell_type": "markdown",
   "metadata": {},
   "source": [
    "3. Functions can return multiple values, but here also order matters"
   ]
  },
  {
   "cell_type": "code",
   "execution_count": 1,
   "metadata": {},
   "outputs": [
    {
     "name": "stdout",
     "output_type": "stream",
     "text": [
      "1 2 3\n"
     ]
    }
   ],
   "source": [
    "def returnMultipleValues():\n",
    "    return 1,2,3\n",
    "\n",
    "a,b,c = returnMultipleValues()\n",
    "print(a,b,c)"
   ]
  },
  {
   "cell_type": "markdown",
   "metadata": {},
   "source": [
    "4. Functions can be called with or without parenthesis, with parenthesis we are calling the function however without parenthesis we are just referring to the function."
   ]
  },
  {
   "cell_type": "code",
   "execution_count": 3,
   "metadata": {},
   "outputs": [
    {
     "name": "stdout",
     "output_type": "stream",
     "text": [
      "Hello\n",
      "Hello\n",
      "<function test at 0x7f8f68974d30>\n",
      "Hello\n",
      "Hello\n"
     ]
    }
   ],
   "source": [
    "def test():\n",
    "    print(\"Hello\")\n",
    "    return \"Hello\"\n",
    "\n",
    "d = test()\n",
    "print(d)\n",
    "d = test\n",
    "print(d)\n",
    "print(d())"
   ]
  },
  {
   "cell_type": "markdown",
   "metadata": {},
   "source": [
    "5. Functions can take any number of parameters, but here also order matters"
   ]
  },
  {
   "cell_type": "code",
   "execution_count": 4,
   "metadata": {},
   "outputs": [
    {
     "name": "stdout",
     "output_type": "stream",
     "text": [
      "55\n",
      "210\n"
     ]
    }
   ],
   "source": [
    "def sumOfAll(*args):\n",
    "    sum = 0\n",
    "    for i in args:\n",
    "        sum += i\n",
    "    return sum\n",
    "\n",
    "print(sumOfAll(1,2,3,4,5,6,7,8,9,10))\n",
    "print(sumOfAll(1,2,3,4,5,6,7,8,9,10,11,12,13,14,15,16,17,18,19,20))\n"
   ]
  },
  {
   "cell_type": "markdown",
   "metadata": {},
   "source": [
    "6. Unless it's the above case, a function must take all the parameters it is expecting. However, if you specify the parameters in the function definition, you can omit them in the function call. "
   ]
  },
  {
   "cell_type": "code",
   "execution_count": 8,
   "metadata": {},
   "outputs": [
    {
     "name": "stdout",
     "output_type": "stream",
     "text": [
      "4\n",
      "1\n",
      "2\n",
      "6\n"
     ]
    }
   ],
   "source": [
    "def square(x = 1):\n",
    "    return x * x\n",
    "def multiply(x , y = 1):\n",
    "    return x * y\n",
    "print(square(2))\n",
    "print(square())\n",
    "print(multiply(2))\n",
    "print(multiply(2,3))"
   ]
  },
  {
   "cell_type": "markdown",
   "metadata": {},
   "source": [
    "7. Functions must be defined before they are called."
   ]
  }
 ],
 "metadata": {
  "interpreter": {
   "hash": "e7370f93d1d0cde622a1f8e1c04877d8463912d04d973331ad4851f04de6915a"
  },
  "kernelspec": {
   "display_name": "Python 3.10.4 64-bit",
   "language": "python",
   "name": "python3"
  },
  "language_info": {
   "codemirror_mode": {
    "name": "ipython",
    "version": 3
   },
   "file_extension": ".py",
   "mimetype": "text/x-python",
   "name": "python",
   "nbconvert_exporter": "python",
   "pygments_lexer": "ipython3",
   "version": "3.10.4"
  },
  "orig_nbformat": 4
 },
 "nbformat": 4,
 "nbformat_minor": 2
}
