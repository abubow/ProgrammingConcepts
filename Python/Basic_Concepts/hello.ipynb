{
 "cells": [
  {
   "cell_type": "markdown",
   "metadata": {},
   "source": [
    "# Print Function in Python"
   ]
  },
  {
   "cell_type": "code",
   "execution_count": 1,
   "metadata": {},
   "outputs": [
    {
     "name": "stdout",
     "output_type": "stream",
     "text": [
      "Hello World\n"
     ]
    }
   ],
   "source": [
    "print(\"Hello World\") "
   ]
  },
  {
   "cell_type": "markdown",
   "metadata": {},
   "source": [
    "Print function is used to display the output on the console.\n",
    "A **Function** is a block of code which only runs when it is called.\n",
    "You can pass data, known as **parameters**, into a function.\n",
    "A function can **return** data as a result. However, it does not have to.\n",
    "A function can return more than one value. This is called a **tuple**. This is discussed in the ADT section."
   ]
  },
  {
   "cell_type": "markdown",
   "metadata": {},
   "source": [
    "By default, the print function prints a new line after the output."
   ]
  },
  {
   "cell_type": "code",
   "execution_count": null,
   "metadata": {},
   "outputs": [],
   "source": [
    "print(\"This is a new line\")\n",
    "print(\"This is another new line\")\n",
    "print(\"This is a third new line\")"
   ]
  }
 ],
 "metadata": {
  "interpreter": {
   "hash": "abe1e5fe3633bbc5f3e3b2e2ef0e8179b0f97d982f5c669af361c5b0030cfcf9"
  },
  "kernelspec": {
   "display_name": "Python 3.10.3 64-bit",
   "language": "python",
   "name": "python3"
  },
  "language_info": {
   "codemirror_mode": {
    "name": "ipython",
    "version": 3
   },
   "file_extension": ".py",
   "mimetype": "text/x-python",
   "name": "python",
   "nbconvert_exporter": "python",
   "pygments_lexer": "ipython3",
   "version": "3.10.3"
  },
  "orig_nbformat": 4
 },
 "nbformat": 4,
 "nbformat_minor": 2
}
