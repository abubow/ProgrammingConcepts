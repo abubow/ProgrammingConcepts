{
 "cells": [
  {
   "cell_type": "markdown",
   "metadata": {},
   "source": [
    "# Print Function in Python"
   ]
  },
  {
   "cell_type": "code",
   "execution_count": 1,
   "metadata": {},
   "outputs": [
    {
     "name": "stdout",
     "output_type": "stream",
     "text": [
      "Hello World\n"
     ]
    }
   ],
   "source": [
    "print(\"Hello World\") "
   ]
  },
  {
   "cell_type": "markdown",
   "metadata": {},
   "source": [
    "Print function is used to display the output on the console.\n",
    "A **Function** is a block of code which only runs when it is called.\n",
    "You can pass data, known as **parameters**, into a function.\n",
    "A function can **return** data as a result. However, it does not have to.\n",
    "A function can return more than one value. This is called a **tuple**. This is discussed in the ADT section."
   ]
  },
  {
   "cell_type": "markdown",
   "metadata": {},
   "source": [
    "> print(*objects, sep=' ', end='\\n', file=sys.stdout, flush=False)"
   ]
  },
  {
   "cell_type": "markdown",
   "metadata": {},
   "source": [
    "By default, the print function prints a new line after the output."
   ]
  },
  {
   "cell_type": "code",
   "execution_count": 2,
   "metadata": {},
   "outputs": [
    {
     "name": "stdout",
     "output_type": "stream",
     "text": [
      "This is a new line\n",
      "This is another new line\n",
      "This is a third new line\n"
     ]
    }
   ],
   "source": [
    "print(\"This is a new line\")\n",
    "print(\"This is another new line\")\n",
    "print(\"This is a third new line\")"
   ]
  },
  {
   "cell_type": "markdown",
   "metadata": {},
   "source": [
    "To print the output on the same line, use the end parameter.\n",
    "*end = ''* is used to print the output on the same line."
   ]
  },
  {
   "cell_type": "code",
   "execution_count": 3,
   "metadata": {},
   "outputs": [
    {
     "name": "stdout",
     "output_type": "stream",
     "text": [
      "This is a new lineThis is another new lineThis is a third new line"
     ]
    }
   ],
   "source": [
    "print(\"This is a new line\", end = '')\n",
    "print(\"This is another new line\", end = '')\n",
    "print(\"This is a third new line\", end = '')"
   ]
  },
  {
   "cell_type": "markdown",
   "metadata": {},
   "source": [
    "The end parameter is used to specify the end of line character.\n",
    "The default end parameter is a new line."
   ]
  },
  {
   "cell_type": "code",
   "execution_count": 4,
   "metadata": {},
   "outputs": [
    {
     "name": "stdout",
     "output_type": "stream",
     "text": [
      "This is a new line\n"
     ]
    }
   ],
   "source": [
    "print(\"This is a new line\")"
   ]
  },
  {
   "cell_type": "markdown",
   "metadata": {},
   "source": [
    "however, if you want you can use any character you want.\n",
    "For example,"
   ]
  },
  {
   "cell_type": "code",
   "execution_count": 5,
   "metadata": {},
   "outputs": [
    {
     "name": "stdout",
     "output_type": "stream",
     "text": [
      "Output on the same line\n",
      "This is a new line:)This is another new line:)This is a third new line:)"
     ]
    }
   ],
   "source": [
    "print(\"Output on the same line\", end = '\\n')\n",
    "\n",
    "print(\"This is a new line\", end = ':)')\n",
    "print(\"This is another new line\", end = ':)')\n",
    "print(\"This is a third new line\", end = ':)')"
   ]
  },
  {
   "cell_type": "markdown",
   "metadata": {},
   "source": [
    "The print function can take multiple parameters."
   ]
  },
  {
   "cell_type": "code",
   "execution_count": 6,
   "metadata": {},
   "outputs": [
    {
     "name": "stdout",
     "output_type": "stream",
     "text": [
      "This is a new line This is another new line This is a third new line\n"
     ]
    }
   ],
   "source": [
    "print(\"This is a new line\", \"This is another new line\", \"This is a third new line\")"
   ]
  },
  {
   "cell_type": "markdown",
   "metadata": {},
   "source": [
    "We can also use the format function to print multiple parameters."
   ]
  },
  {
   "cell_type": "code",
   "execution_count": 7,
   "metadata": {},
   "outputs": [
    {
     "name": "stdout",
     "output_type": "stream",
     "text": [
      "This is a new line This is another new line This is a third new line\n"
     ]
    }
   ],
   "source": [
    "print(\"This is a new line {} {}\".format(\"This is another new line\", \"This is a third new line\"))"
   ]
  },
  {
   "cell_type": "markdown",
   "metadata": {},
   "source": [
    "This will be discussed in the further sections."
   ]
  },
  {
   "cell_type": "markdown",
   "metadata": {},
   "source": [
    "We can also use the sep parameter to specify the separator between the output.\n",
    "*sep = ','* is used to separate the output with a comma."
   ]
  },
  {
   "cell_type": "code",
   "execution_count": 8,
   "metadata": {},
   "outputs": [
    {
     "name": "stdout",
     "output_type": "stream",
     "text": [
      "This is a new line,This is another new line,This is a third new line\n"
     ]
    }
   ],
   "source": [
    "print(\"This is a new line\", \"This is another new line\", \"This is a third new line\", sep = ',')"
   ]
  },
  {
   "cell_type": "markdown",
   "metadata": {},
   "source": [
    "we can also use the file parameter to specify the file to print the output.\n",
    "*file = sys.stdout* is used to print the output on the console."
   ]
  },
  {
   "cell_type": "code",
   "execution_count": 9,
   "metadata": {},
   "outputs": [],
   "source": [
    "print(\"This is a new line\", file=open(\"test.txt\", \"a\"))"
   ]
  },
  {
   "cell_type": "markdown",
   "metadata": {},
   "source": [
    "This creates a new file object. We can use the file object to print the output on the console."
   ]
  },
  {
   "cell_type": "code",
   "execution_count": 10,
   "metadata": {},
   "outputs": [
    {
     "name": "stdout",
     "output_type": "stream",
     "text": [
      "This is a new line\n"
     ]
    }
   ],
   "source": [
    "import sys\n",
    "print(\"This is a new line\", file=sys.stdout)"
   ]
  },
  {
   "cell_type": "markdown",
   "metadata": {},
   "source": [
    "The flush parameter is used to flush the output. Make sure to use the flush parameter if you are using the file parameter. Otherwise, the output will not be printed."
   ]
  },
  {
   "cell_type": "code",
   "execution_count": 11,
   "metadata": {},
   "outputs": [],
   "source": [
    "print(\"This is a new line\", file=open(\"test.txt\", \"a\"), end = '\\n', flush = True)"
   ]
  },
  {
   "cell_type": "markdown",
   "metadata": {},
   "source": [
    "The above example prints the output on the file object and the flush parameter is used to flush the output.\n",
    "Whether the output is buffered is usually determined by file, but if the flush keyword argument is true, the stream is forcibly flushed."
   ]
  }
 ],
 "metadata": {
  "interpreter": {
   "hash": "abe1e5fe3633bbc5f3e3b2e2ef0e8179b0f97d982f5c669af361c5b0030cfcf9"
  },
  "kernelspec": {
   "display_name": "Python 3.10.3 64-bit",
   "language": "python",
   "name": "python3"
  },
  "language_info": {
   "codemirror_mode": {
    "name": "ipython",
    "version": 3
   },
   "file_extension": ".py",
   "mimetype": "text/x-python",
   "name": "python",
   "nbconvert_exporter": "python",
   "pygments_lexer": "ipython3",
   "version": "3.10.3"
  },
  "orig_nbformat": 4
 },
 "nbformat": 4,
 "nbformat_minor": 2
}
