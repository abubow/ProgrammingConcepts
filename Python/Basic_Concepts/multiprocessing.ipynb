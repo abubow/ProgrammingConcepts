{
 "cells": [
  {
   "cell_type": "markdown",
   "metadata": {},
   "source": [
    "# Multiprocessing with Python"
   ]
  },
  {
   "cell_type": "markdown",
   "metadata": {},
   "source": [
    "Multiprocessing refers to being able to divide a task into multiple parts, and run them in parallel. This may be done by utilizing multiple processors or cores."
   ]
  },
  {
   "cell_type": "markdown",
   "metadata": {},
   "source": [
    "Python comes with the multiprocessing module, which allows you to create a pool of processes and divide up a task among them. "
   ]
  },
  {
   "cell_type": "code",
   "execution_count": 6,
   "metadata": {},
   "outputs": [],
   "source": [
    "import multiprocessing"
   ]
  },
  {
   "cell_type": "markdown",
   "metadata": {},
   "source": [
    "Let us make a sample function that we wish to run in parallel."
   ]
  },
  {
   "cell_type": "code",
   "execution_count": 7,
   "metadata": {},
   "outputs": [],
   "source": [
    "import time # we import the sleep function from the time module and the pref_counter function from the pref_counter module\n",
    "def doSomething(x):\n",
    "    print(x)\n",
    "    time.sleep(2)\n"
   ]
  },
  {
   "cell_type": "markdown",
   "metadata": {},
   "source": [
    "we use the multiprocessing.Process function to create a process."
   ]
  },
  {
   "cell_type": "code",
   "execution_count": 8,
   "metadata": {},
   "outputs": [],
   "source": [
    "#process = multiprocessing.Process(target=function, args=[arg1, arg2])\n",
    "p1 = multiprocessing.Process(target=doSomething, args=[5])\n",
    "p2 = multiprocessing.Process(target=doSomething, args=[10])\n",
    "p3 = multiprocessing.Process(target=doSomething, args=[15])"
   ]
  },
  {
   "cell_type": "markdown",
   "metadata": {},
   "source": [
    "this does not however run the processes, it just creates them. To run them we use the start() method."
   ]
  },
  {
   "cell_type": "code",
   "execution_count": 10,
   "metadata": {},
   "outputs": [
    {
     "name": "stdout",
     "output_type": "stream",
     "text": [
      "5\n",
      "10\n",
      "Finished in 0.03 second(s)\n",
      "15\n"
     ]
    }
   ],
   "source": [
    "start = time.perf_counter() # to get the time at which the process started\n",
    "p1.start()\n",
    "p2.start()\n",
    "p3.start()\n",
    "finish = time.perf_counter() # to get the time at which the process finished\n",
    "\n",
    "print(f\"Finished in {round(finish-start, 2)} second(s)\")"
   ]
  },
  {
   "cell_type": "markdown",
   "metadata": {},
   "source": [
    "this runs our function in parallel and we should see that instead of taking (2*3) seconds to run, it takes only 2 seconds but the output is different. This because the program does not wait for processes to finish before executing the lines below it.  "
   ]
  },
  {
   "cell_type": "markdown",
   "metadata": {},
   "source": [
    "to fix this issue we use the join() function."
   ]
  },
  {
   "cell_type": "code",
   "execution_count": 9,
   "metadata": {},
   "outputs": [
    {
     "name": "stdout",
     "output_type": "stream",
     "text": [
      "5\n",
      "10\n",
      "15\n",
      "Finished in 2.06 second(s)\n"
     ]
    }
   ],
   "source": [
    "start = time.perf_counter() # to get the time at which the process started\n",
    "p1.start()\n",
    "p2.start()\n",
    "p3.start()\n",
    "\n",
    "p1.join()\n",
    "p2.join()\n",
    "p3.join()\n",
    "finish = time.perf_counter() # to get the time at which the process finished\n",
    "\n",
    "print(f\"Finished in {round(finish-start, 2)} second(s)\")"
   ]
  },
  {
   "cell_type": "markdown",
   "metadata": {},
   "source": [
    "We can now see that our program does indeed take 2 seconds to run."
   ]
  }
 ],
 "metadata": {
  "interpreter": {
   "hash": "e7370f93d1d0cde622a1f8e1c04877d8463912d04d973331ad4851f04de6915a"
  },
  "kernelspec": {
   "display_name": "Python 3.10.4 64-bit",
   "language": "python",
   "name": "python3"
  },
  "language_info": {
   "codemirror_mode": {
    "name": "ipython",
    "version": 3
   },
   "file_extension": ".py",
   "mimetype": "text/x-python",
   "name": "python",
   "nbconvert_exporter": "python",
   "pygments_lexer": "ipython3",
   "version": "3.10.4"
  },
  "orig_nbformat": 4
 },
 "nbformat": 4,
 "nbformat_minor": 2
}
