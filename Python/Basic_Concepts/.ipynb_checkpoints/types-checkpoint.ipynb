{
 "cells": [
  {
   "cell_type": "markdown",
   "metadata": {},
   "source": [
    "# Types in Python"
   ]
  },
  {
   "cell_type": "markdown",
   "metadata": {},
   "source": [
    "Python is strongly typed, which means that the type of a variable does have a type. Python is also dynamically typed, which means that the type of a variable is not known until runtime. This means that the type of a variable can change at runtime. "
   ]
  }
 ],
 "metadata": {
  "language_info": {
   "name": "python"
  },
  "orig_nbformat": 4
 },
 "nbformat": 4,
 "nbformat_minor": 2
}
