{
 "cells": [
  {
   "cell_type": "markdown",
   "id": "4654b793",
   "metadata": {},
   "source": [
    "# Lab # 4"
   ]
  },
  {
   "cell_type": "markdown",
   "id": "e09c0773",
   "metadata": {},
   "source": [
    "### Functions"
   ]
  },
  {
   "cell_type": "markdown",
   "id": "fb0adb82",
   "metadata": {},
   "source": [
    "Funtions in python have *dynamic typing* and may return any type and may return *multiple variable*"
   ]
  },
  {
   "cell_type": "code",
   "execution_count": 39,
   "id": "86fddd1f",
   "metadata": {},
   "outputs": [],
   "source": [
    "def sum(a, b):\n",
    "    return a+b"
   ]
  },
  {
   "cell_type": "markdown",
   "id": "2d8cf800",
   "metadata": {},
   "source": [
    "# Strings"
   ]
  },
  {
   "cell_type": "markdown",
   "id": "d7c55654",
   "metadata": {},
   "source": [
    "`string = \"University\"`"
   ]
  },
  {
   "cell_type": "code",
   "execution_count": 40,
   "id": "ff93cd59",
   "metadata": {},
   "outputs": [],
   "source": [
    "ucp = \"University of Central Punjab\""
   ]
  },
  {
   "cell_type": "code",
   "execution_count": 41,
   "id": "91e653c0",
   "metadata": {},
   "outputs": [
    {
     "data": {
      "text/plain": [
       "str"
      ]
     },
     "execution_count": 41,
     "metadata": {},
     "output_type": "execute_result"
    }
   ],
   "source": [
    "type(ucp)"
   ]
  },
  {
   "cell_type": "code",
   "execution_count": 42,
   "id": "356365c8",
   "metadata": {},
   "outputs": [
    {
     "data": {
      "text/plain": [
       "'U'"
      ]
     },
     "execution_count": 42,
     "metadata": {},
     "output_type": "execute_result"
    }
   ],
   "source": [
    "ucp[0]"
   ]
  },
  {
   "cell_type": "markdown",
   "id": "88efa675",
   "metadata": {},
   "source": [
    "**python supports negative indexing as well**"
   ]
  },
  {
   "cell_type": "code",
   "execution_count": 43,
   "id": "112a2745",
   "metadata": {},
   "outputs": [
    {
     "data": {
      "text/plain": [
       "'b'"
      ]
     },
     "execution_count": 43,
     "metadata": {},
     "output_type": "execute_result"
    }
   ],
   "source": [
    "ucp[-1]"
   ]
  },
  {
   "cell_type": "markdown",
   "id": "f79f051d",
   "metadata": {},
   "source": [
    "**Python also supports range based indexing**"
   ]
  },
  {
   "cell_type": "code",
   "execution_count": 44,
   "id": "c06ffaa9",
   "metadata": {},
   "outputs": [
    {
     "data": {
      "text/plain": [
       "'Punjab'"
      ]
     },
     "execution_count": 44,
     "metadata": {},
     "output_type": "execute_result"
    }
   ],
   "source": [
    "ucp[-6:] #left empty, it assumes the second value as the size of the string"
   ]
  },
  {
   "cell_type": "code",
   "execution_count": 45,
   "id": "1c6df8e3",
   "metadata": {},
   "outputs": [
    {
     "data": {
      "text/plain": [
       "'Punja'"
      ]
     },
     "execution_count": 45,
     "metadata": {},
     "output_type": "execute_result"
    }
   ],
   "source": [
    "ucp[-6:-1] #does not include the terminating index"
   ]
  },
  {
   "cell_type": "code",
   "execution_count": 46,
   "id": "594ce229",
   "metadata": {},
   "outputs": [
    {
     "data": {
      "text/plain": [
       "'ivers'"
      ]
     },
     "execution_count": 46,
     "metadata": {},
     "output_type": "execute_result"
    }
   ],
   "source": [
    "ucp[2:7]"
   ]
  },
  {
   "cell_type": "markdown",
   "id": "1d3a1458",
   "metadata": {},
   "source": [
    "**the incrementation may be specified as the third value**"
   ]
  },
  {
   "cell_type": "code",
   "execution_count": 47,
   "id": "1c97e114",
   "metadata": {},
   "outputs": [
    {
     "data": {
      "text/plain": [
       "'Uvs'"
      ]
     },
     "execution_count": 47,
     "metadata": {},
     "output_type": "execute_result"
    }
   ],
   "source": [
    "ucp[0:8:3] #starts from zero and goes till 8, choosing every third value"
   ]
  },
  {
   "cell_type": "markdown",
   "id": "7b841f6a",
   "metadata": {},
   "source": [
    "### Concatenation"
   ]
  },
  {
   "cell_type": "markdown",
   "id": "deb8bbf6",
   "metadata": {},
   "source": [
    "**string may be concetenated using the + operator**"
   ]
  },
  {
   "cell_type": "code",
   "execution_count": 48,
   "id": "d1331ad7",
   "metadata": {},
   "outputs": [],
   "source": [
    "ucp = ucp + \" \" + \"Lahore\""
   ]
  },
  {
   "cell_type": "code",
   "execution_count": 49,
   "id": "1bb015e5",
   "metadata": {},
   "outputs": [
    {
     "name": "stdout",
     "output_type": "stream",
     "text": [
      "University of Central Punjab Lahore\n"
     ]
    }
   ],
   "source": [
    "print(ucp)"
   ]
  },
  {
   "cell_type": "markdown",
   "id": "2e391e07",
   "metadata": {},
   "source": [
    "### Built in functions for strings"
   ]
  },
  {
   "cell_type": "markdown",
   "id": "b950b379",
   "metadata": {},
   "source": [
    "**Lower case / upper case conversion**"
   ]
  },
  {
   "cell_type": "code",
   "execution_count": 53,
   "id": "a95752e7",
   "metadata": {},
   "outputs": [
    {
     "data": {
      "text/plain": [
       "'UNIVERSITY OF CENTRAL PUNJAB LAHORE'"
      ]
     },
     "execution_count": 53,
     "metadata": {},
     "output_type": "execute_result"
    }
   ],
   "source": [
    "ucp.upper()"
   ]
  },
  {
   "cell_type": "code",
   "execution_count": 54,
   "id": "3c9b57fc",
   "metadata": {},
   "outputs": [
    {
     "data": {
      "text/plain": [
       "'university of central punjab lahore'"
      ]
     },
     "execution_count": 54,
     "metadata": {},
     "output_type": "execute_result"
    }
   ],
   "source": [
    "ucp.lower()"
   ]
  },
  {
   "cell_type": "markdown",
   "id": "b4bbc19d",
   "metadata": {},
   "source": [
    "**Title Case**"
   ]
  },
  {
   "cell_type": "code",
   "execution_count": 56,
   "id": "8a87c353",
   "metadata": {},
   "outputs": [
    {
     "data": {
      "text/plain": [
       "'University Of Central Punjab Lahore'"
      ]
     },
     "execution_count": 56,
     "metadata": {},
     "output_type": "execute_result"
    }
   ],
   "source": [
    "ucp.title()"
   ]
  },
  {
   "cell_type": "markdown",
   "id": "28fdb3a1",
   "metadata": {},
   "source": [
    "**Numeric and letter checks**"
   ]
  },
  {
   "cell_type": "code",
   "execution_count": 58,
   "id": "71c34c5d",
   "metadata": {},
   "outputs": [
    {
     "data": {
      "text/plain": [
       "False"
      ]
     },
     "execution_count": 58,
     "metadata": {},
     "output_type": "execute_result"
    }
   ],
   "source": [
    "ucp.isnumeric()"
   ]
  },
  {
   "cell_type": "markdown",
   "id": "052c306c",
   "metadata": {},
   "source": [
    "**Length function**"
   ]
  },
  {
   "cell_type": "code",
   "execution_count": 63,
   "id": "1384a22d",
   "metadata": {},
   "outputs": [
    {
     "data": {
      "text/plain": [
       "35"
      ]
     },
     "execution_count": 63,
     "metadata": {},
     "output_type": "execute_result"
    }
   ],
   "source": [
    "len(ucp)"
   ]
  },
  {
   "cell_type": "markdown",
   "id": "599d7e5b",
   "metadata": {},
   "source": [
    "**Joining/putting in between each index**"
   ]
  },
  {
   "cell_type": "code",
   "execution_count": 65,
   "id": "93d4bce6",
   "metadata": {},
   "outputs": [
    {
     "data": {
      "text/plain": [
       "'U  n  i  v  e  r  s  i  t  y     o  f     C  e  n  t  r  a  l     P  u  n  j  a  b     L  a  h  o  r  e'"
      ]
     },
     "execution_count": 65,
     "metadata": {},
     "output_type": "execute_result"
    }
   ],
   "source": [
    "\"  \".join(ucp)"
   ]
  },
  {
   "cell_type": "markdown",
   "id": "81162d03",
   "metadata": {},
   "source": [
    "**Split function**"
   ]
  },
  {
   "cell_type": "code",
   "execution_count": 66,
   "id": "b3ea4df5",
   "metadata": {},
   "outputs": [
    {
     "data": {
      "text/plain": [
       "['University', 'of', 'Central', 'Punjab', 'Lahore']"
      ]
     },
     "execution_count": 66,
     "metadata": {},
     "output_type": "execute_result"
    }
   ],
   "source": [
    "ucp.split() #by default the delimeter is space"
   ]
  },
  {
   "cell_type": "code",
   "execution_count": 67,
   "id": "cbe49e9c",
   "metadata": {},
   "outputs": [
    {
     "data": {
      "text/plain": [
       "['University of Centr', 'l Punj', 'b L', 'hore']"
      ]
     },
     "execution_count": 67,
     "metadata": {},
     "output_type": "execute_result"
    }
   ],
   "source": [
    "ucp.split('a')"
   ]
  },
  {
   "cell_type": "markdown",
   "id": "2fe0ef9e",
   "metadata": {},
   "source": [
    "**Replace Function**"
   ]
  },
  {
   "cell_type": "code",
   "execution_count": 68,
   "id": "790648b7",
   "metadata": {},
   "outputs": [
    {
     "data": {
      "text/plain": [
       "'University of Centrel Punjeb Lehore'"
      ]
     },
     "execution_count": 68,
     "metadata": {},
     "output_type": "execute_result"
    }
   ],
   "source": [
    "ucp.replace('a', 'e')"
   ]
  },
  {
   "cell_type": "code",
   "execution_count": null,
   "id": "a1e6ac51",
   "metadata": {},
   "outputs": [],
   "source": []
  },
  {
   "cell_type": "markdown",
   "id": "84a0bfd9",
   "metadata": {},
   "source": [
    "### Operations on Strings"
   ]
  },
  {
   "cell_type": "markdown",
   "id": "d76f6207",
   "metadata": {},
   "source": [
    "**search/find**"
   ]
  },
  {
   "cell_type": "code",
   "execution_count": 59,
   "id": "b7ecd09c",
   "metadata": {},
   "outputs": [
    {
     "data": {
      "text/plain": [
       "True"
      ]
     },
     "execution_count": 59,
     "metadata": {},
     "output_type": "execute_result"
    }
   ],
   "source": [
    "'o'in ucp"
   ]
  },
  {
   "cell_type": "code",
   "execution_count": 60,
   "id": "abdb3a9a",
   "metadata": {},
   "outputs": [
    {
     "data": {
      "text/plain": [
       "True"
      ]
     },
     "execution_count": 60,
     "metadata": {},
     "output_type": "execute_result"
    }
   ],
   "source": [
    "'oooo' not in ucp"
   ]
  },
  {
   "cell_type": "code",
   "execution_count": 62,
   "id": "1cf0dddd",
   "metadata": {},
   "outputs": [
    {
     "name": "stdout",
     "output_type": "stream",
     "text": [
      ";-;\n",
      ";-;\n",
      ";-;\n",
      ";-;\n",
      ";-;\n",
      ";-;\n",
      ";-;\n",
      ";-;\n",
      ";-;\n",
      ";-;\n",
      ";-;\n",
      "WOW\n",
      ";-;\n",
      ";-;\n",
      ";-;\n",
      ";-;\n",
      ";-;\n",
      ";-;\n",
      ";-;\n",
      ";-;\n",
      ";-;\n",
      ";-;\n",
      ";-;\n",
      ";-;\n",
      ";-;\n",
      ";-;\n",
      ";-;\n",
      ";-;\n",
      ";-;\n",
      ";-;\n",
      ";-;\n",
      ";-;\n",
      "WOW\n",
      ";-;\n",
      ";-;\n"
     ]
    }
   ],
   "source": [
    "for i in ucp:\n",
    "    if i=='o':\n",
    "        print(\"WOW\")\n",
    "    else:\n",
    "        print(\";-;\")"
   ]
  },
  {
   "cell_type": "code",
   "execution_count": 86,
   "id": "c339ca86",
   "metadata": {},
   "outputs": [],
   "source": [
    "history = \"On 15 August 1996, The Punjab Group of Colleges petitioned Government of Punjab for the establishment of a university in the province. \\Punjab Institute of Computer Science (PICS), Punjab College of Commerce (PCC), Punjab Law College (PLC) and Punjab College of Information Technology (PCIT) formed the core of the university at the time of establishment. Following a restructuring in 2004, the PCBA and PICS operate under the Faculty of Management Studies and Faculty of Information Technology of the University of Central Punjab respectively. The Punjab Colleges of Commerce and the Punjab Law College respectively function under the Faculties of Commerce and of Law of the University of Central Punjab. The Faculty of Engineering (FOE) was introduced in 2002.\""
   ]
  },
  {
   "cell_type": "code",
   "execution_count": 91,
   "id": "38b0c602",
   "metadata": {},
   "outputs": [
    {
     "ename": "NameError",
     "evalue": "name 'string' is not defined",
     "output_type": "error",
     "traceback": [
      "\u001b[1;31m---------------------------------------------------------------------------\u001b[0m",
      "\u001b[1;31mNameError\u001b[0m                                 Traceback (most recent call last)",
      "\u001b[1;32m<ipython-input-91-781239aa0edb>\u001b[0m in \u001b[0;36m<module>\u001b[1;34m\u001b[0m\n\u001b[1;32m----> 1\u001b[1;33m \u001b[0mstring\u001b[0m\u001b[1;33m.\u001b[0m\u001b[0mwhitespace\u001b[0m\u001b[1;33m(\u001b[0m\u001b[1;33m)\u001b[0m\u001b[1;33m\u001b[0m\u001b[1;33m\u001b[0m\u001b[0m\n\u001b[0m",
      "\u001b[1;31mNameError\u001b[0m: name 'string' is not defined"
     ]
    }
   ],
   "source": [
    "#string.whitespace()"
   ]
  },
  {
   "cell_type": "markdown",
   "id": "f49cc14e",
   "metadata": {},
   "source": [
    "### Task#1"
   ]
  },
  {
   "cell_type": "markdown",
   "id": "9fad2a8e",
   "metadata": {},
   "source": [
    "**count total word without length function**"
   ]
  },
  {
   "cell_type": "code",
   "execution_count": 71,
   "id": "b79ebe07",
   "metadata": {},
   "outputs": [],
   "source": [
    "arr = history.split()"
   ]
  },
  {
   "cell_type": "code",
   "execution_count": 92,
   "id": "26f488dc",
   "metadata": {},
   "outputs": [
    {
     "name": "stdout",
     "output_type": "stream",
     "text": [
      "size =  118\n"
     ]
    }
   ],
   "source": [
    "s = 0\n",
    "for x in arr:\n",
    "    s+=1\n",
    "print(\"size = \", s)"
   ]
  },
  {
   "cell_type": "markdown",
   "id": "728dfd47",
   "metadata": {},
   "source": [
    "# Task 2"
   ]
  },
  {
   "cell_type": "markdown",
   "id": "7eea9e13",
   "metadata": {},
   "source": [
    "**remove of without builtin**"
   ]
  },
  {
   "cell_type": "code",
   "execution_count": 93,
   "id": "f7cbe2a9",
   "metadata": {},
   "outputs": [
    {
     "name": "stdout",
     "output_type": "stream",
     "text": [
      "On 15 August 1996, The Punjab Group Colleges petitioned Government Punjab for the establishment a university in the province. \\Punjab Institute Computer Science (PICS), Punjab College Commerce (PCC), Punjab Law College (PLC) and Punjab College Information Technology (PCIT) formed the core the university at the time establishment. Following a restructuring in 2004, the PCBA and PICS operate under the Faculty Management Studies and Faculty Information Technology the University Central Punjab respectively. The Punjab Colleges Commerce and the Punjab Law College respectively function under the Faculties Commerce and Law the University Central Punjab. The Faculty Engineering (FOE) was introduced in 2002. \n"
     ]
    }
   ],
   "source": [
    "n = \"\"\n",
    "for x in arr:\n",
    "    if(x!=\"of\"):\n",
    "        n = n + x + \" \"\n",
    "print(n)"
   ]
  },
  {
   "cell_type": "code",
   "execution_count": null,
   "id": "01cadc93",
   "metadata": {},
   "outputs": [],
   "source": [
    "i =0 \n",
    "z =\"\"\n",
    "while(i<s-1):\n",
    "    if x==\"o\":\n",
    "        if(history[i+1]!=\"f\"):\n",
    "            z = x + history[i]\n",
    "    else:\n",
    "        z = x + history[i]\n",
    "print(z)"
   ]
  },
  {
   "cell_type": "code",
   "execution_count": null,
   "id": "08bdaf63",
   "metadata": {},
   "outputs": [],
   "source": []
  }
 ],
 "metadata": {
  "kernelspec": {
   "display_name": "Python 3",
   "language": "python",
   "name": "python3"
  },
  "language_info": {
   "codemirror_mode": {
    "name": "ipython",
    "version": 3
   },
   "file_extension": ".py",
   "mimetype": "text/x-python",
   "name": "python",
   "nbconvert_exporter": "python",
   "pygments_lexer": "ipython3",
   "version": "3.8.8"
  }
 },
 "nbformat": 4,
 "nbformat_minor": 5
}
